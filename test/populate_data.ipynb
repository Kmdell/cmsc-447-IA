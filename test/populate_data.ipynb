{
 "cells": [
  {
   "cell_type": "code",
   "execution_count": 5,
   "metadata": {},
   "outputs": [],
   "source": [
    "from databases import Database\n",
    "db = Database('sqlite+aiosqlite:///../backend/individual.db')\n",
    "await db.connect()"
   ]
  },
  {
   "cell_type": "code",
   "execution_count": 7,
   "metadata": {},
   "outputs": [],
   "source": [
    "values = [\n",
    "    {'student_id': 211, 'name':'Cameron Suarez', 'credits_earned': 54},\n",
    "    {'student_id': 122, 'name':'Uzoma Okoye', 'credits_earned': 12},\n",
    "    {'student_id': 213, 'name':'Irma Schwartz', 'credits_earned': 17},\n",
    "    {'student_id': 524, 'name':'Chandra Choudhary', 'credits_earned': 100},\n",
    "    {'student_id': 425, 'name':'Shea McNamara', 'credits_earned': 49},\n",
    "    {'student_id': 626, 'name':'Cameron Johnson', 'credits_earned': 62},\n",
    "    {'student_id': 287, 'name':'Taylor Ellison', 'credits_earned': 87}\n",
    "]\n",
    "query = \"INSERT INTO Students(student_id, name, credits_earned) VALUES (:student_id, :name, :credits_earned)\"\n",
    "await db.execute_many(query=query, values=values)"
   ]
  },
  {
   "cell_type": "code",
   "execution_count": 11,
   "metadata": {},
   "outputs": [],
   "source": [
    "values = [\n",
    "    {'instructor_id': 654, 'name':'Kim Hwang', 'department': \"Mathematics\"},\n",
    "    {'instructor_id': 894, 'name':'Aaron Powell', 'department': \"Chemistry\"},\n",
    "    {'instructor_id': 843, 'name':'Ryan Sampson', 'department': \"Physics\"},\n",
    "    {'instructor_id': 984, 'name':'Dakota Robertson', 'department': \"Biology\"},\n",
    "    {'instructor_id': 874, 'name':'Dale Sanders', 'department': \"Comuter Science\"},\n",
    "    {'instructor_id': 795, 'name':'Mason Flynn', 'department': \"Environmental Science\"},\n",
    "    {'instructor_id': 967, 'name':'Blake Smith', 'department': \"Mathematics\"}\n",
    "]\n",
    "query = \"INSERT INTO Instructors(instructor_id, name, department) VALUES (:instructor_id, :name, :department)\"\n",
    "await db.execute_many(query=query, values=values)"
   ]
  },
  {
   "cell_type": "code",
   "execution_count": 10,
   "metadata": {},
   "outputs": [],
   "source": [
    "values = [\n",
    "    {'course_id': 8415, 'course_title':'Differential Equations', 'instructor_id': 654},\n",
    "    {'course_id': 5641, 'course_title':'Organic Chemistry', 'instructor_id': 894},\n",
    "    {'course_id': 8249, 'course_title':'Software Engineering', 'instructor_id': 874},\n",
    "    {'course_id': 8929, 'course_title':'Machine Learning', 'instructor_id': 874}\n",
    "]\n",
    "query = \"INSERT INTO Courses(course_id, course_title, instructor_id) VALUES (:course_id, :course_title, :instructor_id)\"\n",
    "await db.execute_many(query=query, values=values)"
   ]
  }
 ],
 "metadata": {
  "kernelspec": {
   "display_name": "Python 3.10.4 ('backend': venv)",
   "language": "python",
   "name": "python3"
  },
  "language_info": {
   "codemirror_mode": {
    "name": "ipython",
    "version": 3
   },
   "file_extension": ".py",
   "mimetype": "text/x-python",
   "name": "python",
   "nbconvert_exporter": "python",
   "pygments_lexer": "ipython3",
   "version": "3.10.4"
  },
  "orig_nbformat": 4,
  "vscode": {
   "interpreter": {
    "hash": "93f8e4f86c068fdec1d2b934930dd5bd4b65514f211dac55cd5a107936d72ac7"
   }
  }
 },
 "nbformat": 4,
 "nbformat_minor": 2
}
