{
 "cells": [
  {
   "cell_type": "code",
   "execution_count": 313,
   "metadata": {},
   "outputs": [
    {
     "name": "stdout",
     "output_type": "stream",
     "text": [
      "Flask is running\n"
     ]
    }
   ],
   "source": [
    "import requests as req\n",
    "url = \"http://127.0.0.1:5000\"\n",
    "resp = req.get(url + '/')\n",
    "print(resp.text)"
   ]
  },
  {
   "cell_type": "markdown",
   "metadata": {},
   "source": [
    "Test the creation of objects"
   ]
  },
  {
   "cell_type": "code",
   "execution_count": 372,
   "metadata": {},
   "outputs": [
    {
     "name": "stdout",
     "output_type": "stream",
     "text": [
      "{\"credits_earned\":96,\"name\":\"Kyle Dell\"}\n",
      "\n"
     ]
    }
   ],
   "source": [
    "data = {\"name\": \"Kyle Dell\", \"credits_earned\": 96}\n",
    "resp = req.post(url=url + \"/student\", json=data)\n",
    "print(resp.text)"
   ]
  },
  {
   "cell_type": "code",
   "execution_count": 387,
   "metadata": {},
   "outputs": [
    {
     "name": "stdout",
     "output_type": "stream",
     "text": [
      "{\"department\":\"Computer Science\",\"name\":\"Abhijit Dutt\"}\n",
      "\n"
     ]
    }
   ],
   "source": [
    "data = {\"name\": \"Abhijit Dutt\", \"department\": \"Computer Science\"}\n",
    "resp = req.post(url + \"/instructor\", json=data)\n",
    "print(resp.text)"
   ]
  },
  {
   "cell_type": "code",
   "execution_count": 388,
   "metadata": {},
   "outputs": [
    {
     "name": "stdout",
     "output_type": "stream",
     "text": [
      "{\"course_title\":\"CMSC447\",\"instructor_id\":1}\n",
      "\n"
     ]
    }
   ],
   "source": [
    "data = {\"course_title\": \"CMSC447\", \"instructor_id\": 1}\n",
    "resp = req.post(url + \"/course\", json=data)\n",
    "print(resp.text)"
   ]
  },
  {
   "cell_type": "code",
   "execution_count": 395,
   "metadata": {},
   "outputs": [
    {
     "data": {
      "text/plain": [
       "'{\"course_id\":2,\"student_id\":1}\\n'"
      ]
     },
     "execution_count": 395,
     "metadata": {},
     "output_type": "execute_result"
    }
   ],
   "source": [
    "data = {\"course_id\": 2, \"student_id\": 1}\n",
    "resp = req.post(url + \"/grade\", json=data)\n",
    "resp.text"
   ]
  },
  {
   "cell_type": "markdown",
   "metadata": {},
   "source": [
    "mass GET checks"
   ]
  },
  {
   "cell_type": "code",
   "execution_count": 384,
   "metadata": {},
   "outputs": [
    {
     "data": {
      "text/plain": [
       "'[{\"credits_earned\":96,\"name\":\"Kyle Dell\",\"student_id\":1}]\\n'"
      ]
     },
     "execution_count": 384,
     "metadata": {},
     "output_type": "execute_result"
    }
   ],
   "source": [
    "req.get(url + \"/student\").text"
   ]
  },
  {
   "cell_type": "code",
   "execution_count": 394,
   "metadata": {},
   "outputs": [
    {
     "data": {
      "text/plain": [
       "'[{\"department\":\"Information System\",\"instructor_id\":1,\"name\":\"Abhijit Dutt\"},{\"department\":\"Computer Science\",\"instructor_id\":2,\"name\":\"Abhijit Dutt\"}]\\n'"
      ]
     },
     "execution_count": 394,
     "metadata": {},
     "output_type": "execute_result"
    }
   ],
   "source": [
    "req.get(url + \"/instructor\").text"
   ]
  },
  {
   "cell_type": "code",
   "execution_count": 393,
   "metadata": {},
   "outputs": [
    {
     "data": {
      "text/plain": [
       "'[{\"course_id\":1,\"course_title\":\"IS357\",\"instructor_id\":1},{\"course_id\":2,\"course_title\":\"CMSC447\",\"instructor_id\":1}]\\n'"
      ]
     },
     "execution_count": 393,
     "metadata": {},
     "output_type": "execute_result"
    }
   ],
   "source": [
    "req.get(url + \"/course\").text"
   ]
  },
  {
   "cell_type": "code",
   "execution_count": 409,
   "metadata": {},
   "outputs": [
    {
     "data": {
      "text/plain": [
       "'[{\"course_id\":1,\"grade\":96,\"student_id\":1},{\"course_id\":2,\"grade\":0,\"student_id\":1}]\\n'"
      ]
     },
     "execution_count": 409,
     "metadata": {},
     "output_type": "execute_result"
    }
   ],
   "source": [
    "req.get(url + \"/grade\").text"
   ]
  },
  {
   "cell_type": "markdown",
   "metadata": {},
   "source": [
    "specific GET"
   ]
  },
  {
   "cell_type": "code",
   "execution_count": 404,
   "metadata": {},
   "outputs": [
    {
     "data": {
      "text/plain": [
       "'[{\"credits_earned\":104,\"name\":\"Kyle Dell\",\"student_id\":1}]\\n'"
      ]
     },
     "execution_count": 404,
     "metadata": {},
     "output_type": "execute_result"
    }
   ],
   "source": [
    "req.get(url + \"/student/1\").text"
   ]
  },
  {
   "cell_type": "code",
   "execution_count": 401,
   "metadata": {},
   "outputs": [
    {
     "data": {
      "text/plain": [
       "'[{\"department\":\"Information System\",\"instructor_id\":1,\"name\":\"Abhijit Dutt\"}]\\n'"
      ]
     },
     "execution_count": 401,
     "metadata": {},
     "output_type": "execute_result"
    }
   ],
   "source": [
    "req.get(url + \"/instructor/1\").text"
   ]
  },
  {
   "cell_type": "code",
   "execution_count": 400,
   "metadata": {},
   "outputs": [
    {
     "data": {
      "text/plain": [
       "'[{\"course_id\":1,\"course_title\":\"IS357\",\"instructor_id\":1}]\\n'"
      ]
     },
     "execution_count": 400,
     "metadata": {},
     "output_type": "execute_result"
    }
   ],
   "source": [
    "req.get(url + \"/course/1\").text"
   ]
  },
  {
   "cell_type": "code",
   "execution_count": 399,
   "metadata": {},
   "outputs": [
    {
     "data": {
      "text/plain": [
       "'[{\"course_id\":1,\"grade\":96,\"student_id\":1}]\\n'"
      ]
     },
     "execution_count": 399,
     "metadata": {},
     "output_type": "execute_result"
    }
   ],
   "source": [
    "req.get(url + \"/grade/1/1\").text"
   ]
  },
  {
   "cell_type": "code",
   "execution_count": 397,
   "metadata": {},
   "outputs": [
    {
     "data": {
      "text/plain": [
       "'[{\"course_id\":1,\"grade\":96,\"student_id\":1},{\"course_id\":2,\"grade\":0,\"student_id\":1}]\\n'"
      ]
     },
     "execution_count": 397,
     "metadata": {},
     "output_type": "execute_result"
    }
   ],
   "source": [
    "req.get(url + \"/grade/0/1\").text"
   ]
  },
  {
   "cell_type": "code",
   "execution_count": 406,
   "metadata": {},
   "outputs": [
    {
     "data": {
      "text/plain": [
       "'[{\"course_id\":1,\"grade\":96,\"student_id\":1}]\\n'"
      ]
     },
     "execution_count": 406,
     "metadata": {},
     "output_type": "execute_result"
    }
   ],
   "source": [
    "req.get(url + \"/grade/1/0\").text"
   ]
  },
  {
   "cell_type": "markdown",
   "metadata": {},
   "source": [
    "Check update POST"
   ]
  },
  {
   "cell_type": "code",
   "execution_count": 403,
   "metadata": {},
   "outputs": [
    {
     "name": "stdout",
     "output_type": "stream",
     "text": [
      "[[{\"credits_earned\":96,\"name\":\"Kyle Dell\",\"student_id\":1}],[{\"credits_earned\":104,\"name\":\"Kyle Dell\",\"student_id\":1}]]\n",
      "\n"
     ]
    }
   ],
   "source": [
    "data = {\"name\": \"Kyle Dell\", \"credits_earned\": 104}\n",
    "resp = req.post(url + \"/student/1\", json=data)\n",
    "print(resp.text)"
   ]
  },
  {
   "cell_type": "code",
   "execution_count": 389,
   "metadata": {},
   "outputs": [
    {
     "name": "stdout",
     "output_type": "stream",
     "text": [
      "[[{\"department\":\"Computer Science\",\"instructor_id\":1,\"name\":\"Abhijit Dutt\"}],[{\"department\":\"Information System\",\"instructor_id\":1,\"name\":\"Abhijit Dutt\"}]]\n",
      "\n"
     ]
    }
   ],
   "source": [
    "data = {\"name\": \"Abhijit Dutt\", \"department\": \"Information System\"}\n",
    "resp = req.post(url + \"/instructor/1\", json=data)\n",
    "print(resp.text)"
   ]
  },
  {
   "cell_type": "code",
   "execution_count": 390,
   "metadata": {},
   "outputs": [
    {
     "name": "stdout",
     "output_type": "stream",
     "text": [
      "[[{\"course_id\":1,\"course_title\":\"CMSC447\",\"instructor_id\":1}],[{\"course_id\":1,\"course_title\":\"IS357\",\"instructor_id\":1}]]\n",
      "\n"
     ]
    }
   ],
   "source": [
    "data = {\"course_title\": \"IS357\", \"instructor_id\": 1}\n",
    "resp = req.post(url + \"/course/1\", json=data)\n",
    "print(resp.text)"
   ]
  },
  {
   "cell_type": "code",
   "execution_count": 405,
   "metadata": {},
   "outputs": [
    {
     "name": "stdout",
     "output_type": "stream",
     "text": [
      "[]\n",
      "\n"
     ]
    }
   ],
   "source": [
    "data = {\"grade\": 96}\n",
    "resp = req.post(url + \"/grade/2/2\", json=data)\n",
    "print(resp.text)"
   ]
  },
  {
   "cell_type": "markdown",
   "metadata": {},
   "source": [
    "Test PUT for delete"
   ]
  },
  {
   "cell_type": "code",
   "execution_count": 413,
   "metadata": {},
   "outputs": [
    {
     "data": {
      "text/plain": [
       "<Response [200]>"
      ]
     },
     "execution_count": 413,
     "metadata": {},
     "output_type": "execute_result"
    }
   ],
   "source": [
    "req.put(url + \"/student/1\")"
   ]
  },
  {
   "cell_type": "code",
   "execution_count": 418,
   "metadata": {},
   "outputs": [
    {
     "data": {
      "text/plain": [
       "<Response [200]>"
      ]
     },
     "execution_count": 418,
     "metadata": {},
     "output_type": "execute_result"
    }
   ],
   "source": [
    "req.put(url + \"/instructor/1\")"
   ]
  },
  {
   "cell_type": "code",
   "execution_count": 419,
   "metadata": {},
   "outputs": [
    {
     "data": {
      "text/plain": [
       "<Response [200]>"
      ]
     },
     "execution_count": 419,
     "metadata": {},
     "output_type": "execute_result"
    }
   ],
   "source": [
    "req.put(url + \"/course/1\")"
   ]
  },
  {
   "cell_type": "code",
   "execution_count": 414,
   "metadata": {},
   "outputs": [
    {
     "data": {
      "text/plain": [
       "<Response [200]>"
      ]
     },
     "execution_count": 414,
     "metadata": {},
     "output_type": "execute_result"
    }
   ],
   "source": [
    "req.put(url + \"/grade/1/1\")"
   ]
  }
 ],
 "metadata": {
  "kernelspec": {
   "display_name": "Python 3.10.4 ('backend': venv)",
   "language": "python",
   "name": "python3"
  },
  "language_info": {
   "codemirror_mode": {
    "name": "ipython",
    "version": 3
   },
   "file_extension": ".py",
   "mimetype": "text/x-python",
   "name": "python",
   "nbconvert_exporter": "python",
   "pygments_lexer": "ipython3",
   "version": "3.10.4"
  },
  "orig_nbformat": 4,
  "vscode": {
   "interpreter": {
    "hash": "93f8e4f86c068fdec1d2b934930dd5bd4b65514f211dac55cd5a107936d72ac7"
   }
  }
 },
 "nbformat": 4,
 "nbformat_minor": 2
}
